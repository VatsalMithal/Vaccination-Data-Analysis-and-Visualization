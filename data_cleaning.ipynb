{
 "cells": [
  {
   "cell_type": "code",
   "execution_count": 36,
   "id": "75dd97b3",
   "metadata": {},
   "outputs": [],
   "source": [
    "import pandas as pd"
   ]
  },
  {
   "cell_type": "code",
   "execution_count": 39,
   "metadata": {},
   "outputs": [],
   "source": [
    "# Load all Excel files (update the path if needed)\n",
    "coverage_data = pd.read_excel(\"../data/coverage-data.xlsx\")\n",
    "incidence_data = pd.read_excel(\"../data/incidence-rate-data.xlsx\")\n",
    "reported_cases_data = pd.read_excel(\"../data/reported-cases-data.xlsx\")\n",
    "vaccine_intro_data = pd.read_excel(\"../data/vaccine-introduction-data.xlsx\")\n",
    "vaccine_schedule_data = pd.read_excel(\"../data/vaccine-schedule-data.xlsx\")"
   ]
  },
  {
   "cell_type": "code",
   "execution_count": 40,
   "metadata": {},
   "outputs": [],
   "source": [
    "# Step 3: Define a generic data cleaning function\n",
    "def clean_dataset(df):\n",
    "    df = df.copy()\n",
    "    # Drop duplicate rows\n",
    "    df.drop_duplicates(inplace=True)\n",
    "    \n",
    "    # Clean column names\n",
    "    df.columns = df.columns.str.strip().str.upper().str.replace(\" \", \"_\")\n",
    "    \n",
    "    # Drop columns that have all missing values\n",
    "    df.dropna(axis=1, how='all', inplace=True)\n",
    "    \n",
    "    # Convert 'YEAR' column to integer if it exists\n",
    "    if 'YEAR' in df.columns:\n",
    "        df['YEAR'] = pd.to_numeric(df['YEAR'], errors='coerce').astype('Int64')\n",
    "    \n",
    "    return df"
   ]
  },
  {
   "cell_type": "code",
   "execution_count": 41,
   "metadata": {},
   "outputs": [],
   "source": [
    "# Step 4: Clean all datasets\n",
    "cleaned_coverage = clean_dataset(coverage_data)\n",
    "cleaned_incidence = clean_dataset(incidence_data)\n",
    "cleaned_reported_cases = clean_dataset(reported_cases_data)\n",
    "cleaned_vaccine_intro = clean_dataset(vaccine_intro_data)\n",
    "cleaned_vaccine_schedule = clean_dataset(vaccine_schedule_data)"
   ]
  },
  {
   "cell_type": "code",
   "execution_count": 44,
   "metadata": {},
   "outputs": [
    {
     "name": "stdout",
     "output_type": "stream",
     "text": [
      "Cleaned Coverage Data:\n",
      "        GROUP CODE   NAME  YEAR  ANTIGEN  \\\n",
      "0  COUNTRIES  ABW  Aruba  2023      BCG   \n",
      "1  COUNTRIES  ABW  Aruba  2023      BCG   \n",
      "2  COUNTRIES  ABW  Aruba  2023  DIPHCV4   \n",
      "3  COUNTRIES  ABW  Aruba  2023  DIPHCV4   \n",
      "4  COUNTRIES  ABW  Aruba  2023  DIPHCV5   \n",
      "\n",
      "                                 ANTIGEN_DESCRIPTION COVERAGE_CATEGORY  \\\n",
      "0                                                BCG             ADMIN   \n",
      "1                                                BCG          OFFICIAL   \n",
      "2  Diphtheria-containing vaccine, 4th dose (1st b...             ADMIN   \n",
      "3  Diphtheria-containing vaccine, 4th dose (1st b...          OFFICIAL   \n",
      "4  Diphtheria-containing vaccine, 5th dose (2nd b...             ADMIN   \n",
      "\n",
      "  COVERAGE_CATEGORY_DESCRIPTION  TARGET_NUMBER   DOSES  COVERAGE  \n",
      "0       Administrative coverage            NaN     NaN       NaN  \n",
      "1             Official coverage            NaN     NaN       NaN  \n",
      "2       Administrative coverage         1044.0   945.0     90.52  \n",
      "3             Official coverage            NaN     NaN     90.52  \n",
      "4       Administrative coverage         1219.0  1008.0     82.69  \n",
      "Cleaned Incidence Rate Data:\n",
      "        GROUP CODE   NAME  YEAR          DISEASE  \\\n",
      "0  COUNTRIES  ABW  Aruba  2023              CRS   \n",
      "1  COUNTRIES  ABW  Aruba  2023       DIPHTHERIA   \n",
      "2  COUNTRIES  ABW  Aruba  2023  INVASIVE_MENING   \n",
      "3  COUNTRIES  ABW  Aruba  2023          MEASLES   \n",
      "4  COUNTRIES  ABW  Aruba  2023            MUMPS   \n",
      "\n",
      "              DISEASE_DESCRIPTION                     DENOMINATOR  \\\n",
      "0     Congenital rubella syndrome          per 10,000 live births   \n",
      "1                      Diphtheria  per 1,000,000 total population   \n",
      "2  Invasive meningococcal disease  per 1,000,000 total population   \n",
      "3                         Measles  per 1,000,000 total population   \n",
      "4                           Mumps  per 1,000,000 total population   \n",
      "\n",
      "   INCIDENCE_RATE  \n",
      "0             0.0  \n",
      "1             0.0  \n",
      "2             9.3  \n",
      "3             NaN  \n",
      "4             0.0  \n",
      "Cleaned Reported Cases Data:\n",
      "        GROUP CODE   NAME  YEAR          DISEASE  \\\n",
      "0  COUNTRIES  ABW  Aruba  2023              CRS   \n",
      "1  COUNTRIES  ABW  Aruba  2023       DIPHTHERIA   \n",
      "2  COUNTRIES  ABW  Aruba  2023  INVASIVE_MENING   \n",
      "3  COUNTRIES  ABW  Aruba  2023          MEASLES   \n",
      "4  COUNTRIES  ABW  Aruba  2023            MUMPS   \n",
      "\n",
      "              DISEASE_DESCRIPTION  CASES  \n",
      "0     Congenital rubella syndrome    0.0  \n",
      "1                      Diphtheria    0.0  \n",
      "2  Invasive meningococcal disease    1.0  \n",
      "3                         Measles    NaN  \n",
      "4                           Mumps    0.0  \n",
      "Cleaned Vaccine Introduction Data:\n",
      "   ISO_3_CODE  COUNTRYNAME WHO_REGION  YEAR  \\\n",
      "0        AFG  Afghanistan       EMRO  2023   \n",
      "1        AFG  Afghanistan       EMRO  2023   \n",
      "2        AFG  Afghanistan       EMRO  2023   \n",
      "3        AFG  Afghanistan       EMRO  2023   \n",
      "4        AFG  Afghanistan       EMRO  2023   \n",
      "\n",
      "                                   DESCRIPTION INTRO  \n",
      "0             aP (acellular pertussis) vaccine    No  \n",
      "1                          Hepatitis A vaccine    No  \n",
      "2                          Hepatitis B vaccine   Yes  \n",
      "3                              HepB birth dose   Yes  \n",
      "4  Hib (Haemophilus influenzae type B) vaccine   Yes  \n",
      "Cleaned Vaccine Schedule Data:\n",
      "   ISO_3_CODE COUNTRYNAME WHO_REGION  YEAR VACCINECODE  \\\n",
      "0        ABW       Aruba       AMRO  2023  DTAPHIBIPV   \n",
      "1        ABW       Aruba       AMRO  2023  DTAPHIBIPV   \n",
      "2        ABW       Aruba       AMRO  2023  DTAPHIBIPV   \n",
      "3        ABW       Aruba       AMRO  2023  DTAPHIBIPV   \n",
      "4        ABW       Aruba       AMRO  2023     DTAPIPV   \n",
      "\n",
      "                VACCINE_DESCRIPTION  SCHEDULEROUNDS  TARGETPOP  \\\n",
      "0  DTaP-Hib-IPV (acellular) vaccine             1.0        NaN   \n",
      "1  DTaP-Hib-IPV (acellular) vaccine             2.0        NaN   \n",
      "2  DTaP-Hib-IPV (acellular) vaccine             3.0        NaN   \n",
      "3  DTaP-Hib-IPV (acellular) vaccine             4.0    B_2YL_W   \n",
      "4      DTaP-IPV (acellular) vaccine             5.0  B_CHILD_W   \n",
      "\n",
      "  TARGETPOP_DESCRIPTION   GEOAREA AGEADMINISTERED SOURCECOMMENT  \n",
      "0       General/routine  NATIONAL              M2           NaN  \n",
      "1       General/routine  NATIONAL              M4           NaN  \n",
      "2       General/routine  NATIONAL              M6           NaN  \n",
      "3       General/routine  NATIONAL             M15           NaN  \n",
      "4       General/routine  NATIONAL              Y4           NaN  \n"
     ]
    }
   ],
   "source": [
    "# Step 5: Preview first few rows of each cleaned dataset\n",
    "print(\"Cleaned Coverage Data:\\n\", cleaned_coverage.head())\n",
    "print(\"Cleaned Incidence Rate Data:\\n\", cleaned_incidence.head())\n",
    "print(\"Cleaned Reported Cases Data:\\n\", cleaned_reported_cases.head())\n",
    "print(\"Cleaned Vaccine Introduction Data:\\n\", cleaned_vaccine_intro.head())\n",
    "print(\"Cleaned Vaccine Schedule Data:\\n\", cleaned_vaccine_schedule.head())"
   ]
  },
  {
   "cell_type": "code",
   "execution_count": 45,
   "id": "fbfd3e90",
   "metadata": {},
   "outputs": [],
   "source": [
    "cleaned_coverage.rename(columns={'GROUP': 'GROUP_NAME'}, inplace=True)\n",
    "cleaned_incidence.rename(columns={'GROUP': 'GROUP_NAME'}, inplace=True)\n",
    "cleaned_reported_cases.rename(columns={'GROUP': 'GROUP_NAME'}, inplace=True)"
   ]
  },
  {
   "cell_type": "code",
   "execution_count": 46,
   "metadata": {},
   "outputs": [
    {
     "name": "stdout",
     "output_type": "stream",
     "text": [
      "✅ All cleaned datasets have been saved to the data folder.\n"
     ]
    }
   ],
   "source": [
    "# Save cleaned datasets to the 'data/' folder as CSV files\n",
    "cleaned_coverage.to_csv(\"../data/cleaned_coverage_data.csv\", index=False)\n",
    "cleaned_incidence.to_csv(\"../data/cleaned_incidence_rate_data.csv\", index=False)\n",
    "cleaned_reported_cases.to_csv(\"../data/cleaned_reported_cases_data.csv\", index=False)\n",
    "cleaned_vaccine_intro.to_csv(\"../data/cleaned_vaccine_introduction_data.csv\", index=False)\n",
    "cleaned_vaccine_schedule.to_csv(\"../data/cleaned_vaccine_schedule_data.csv\", index=False)\n",
    "\n",
    "print(\"✅ All cleaned datasets have been saved to the data folder.\")"
   ]
  },
  {
   "cell_type": "code",
   "execution_count": null,
   "metadata": {},
   "outputs": [],
   "source": []
  },
  {
   "cell_type": "code",
   "execution_count": null,
   "id": "f75ff43a",
   "metadata": {},
   "outputs": [],
   "source": []
  },
  {
   "cell_type": "code",
   "execution_count": null,
   "id": "6250a893",
   "metadata": {},
   "outputs": [],
   "source": []
  },
  {
   "cell_type": "code",
   "execution_count": null,
   "metadata": {},
   "outputs": [],
   "source": []
  },
  {
   "cell_type": "code",
   "execution_count": null,
   "id": "f51dd5f3",
   "metadata": {},
   "outputs": [],
   "source": []
  }
 ],
 "metadata": {
  "kernelspec": {
   "display_name": "foodwaste",
   "language": "python",
   "name": "python3"
  },
  "language_info": {
   "codemirror_mode": {
    "name": "ipython",
    "version": 3
   },
   "file_extension": ".py",
   "mimetype": "text/x-python",
   "name": "python",
   "nbconvert_exporter": "python",
   "pygments_lexer": "ipython3",
   "version": "3.12.9"
  }
 },
 "nbformat": 4,
 "nbformat_minor": 5
}
