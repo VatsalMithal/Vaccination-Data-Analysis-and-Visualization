{
 "cells": [
  {
   "cell_type": "code",
   "execution_count": 18,
   "id": "9e9af189",
   "metadata": {},
   "outputs": [],
   "source": [
    "import pandas as pd\n",
    "from sqlalchemy import create_engine"
   ]
  },
  {
   "cell_type": "code",
   "execution_count": 19,
   "id": "363f8e17",
   "metadata": {},
   "outputs": [],
   "source": [
    "# Path to SQLite DB file (this will create it in your project folder)\n",
    "engine = create_engine('sqlite:///../data/vaccination.db')  # adjust path if needed"
   ]
  },
  {
   "cell_type": "code",
   "execution_count": 20,
   "id": "ab72b428",
   "metadata": {},
   "outputs": [],
   "source": [
    "# Load cleaned CSVs\n",
    "coverage = pd.read_csv(\"../Data/cleaned_coverage_data.csv\")\n",
    "incidence = pd.read_csv(\"../Data/cleaned_incidence_rate_data.csv\")\n",
    "reported = pd.read_csv(\"../Data/cleaned_reported_cases_data.csv\")\n",
    "vaccine_intro = pd.read_csv(\"../Data/cleaned_vaccine_introduction_data.csv\")\n",
    "schedule = pd.read_csv(\"../Data/cleaned_vaccine_schedule_data.csv\")"
   ]
  },
  {
   "cell_type": "code",
   "execution_count": 21,
   "id": "9d099b95",
   "metadata": {},
   "outputs": [
    {
     "name": "stdout",
     "output_type": "stream",
     "text": [
      "✅ All tables loaded into vaccination.db successfully.\n"
     ]
    }
   ],
   "source": [
    "# Save data into SQLite database\n",
    "coverage.to_sql(\"coverage_data\", con=engine, if_exists=\"replace\", index=False)\n",
    "incidence.to_sql(\"incidence_rate_data\", con=engine, if_exists=\"replace\", index=False)\n",
    "reported.to_sql(\"reported_cases_data\", con=engine, if_exists=\"replace\", index=False)\n",
    "vaccine_intro.to_sql(\"vaccine_introduction_data\", con=engine, if_exists=\"replace\", index=False)\n",
    "schedule.to_sql(\"vaccine_schedule_data\", con=engine, if_exists=\"replace\", index=False)\n",
    "\n",
    "print(\"✅ All tables loaded into vaccination.db successfully.\")\n"
   ]
  },
  {
   "cell_type": "code",
   "execution_count": 22,
   "id": "9e43110a",
   "metadata": {},
   "outputs": [],
   "source": [
    "from sqlalchemy import create_engine, Column, Integer, Float, String, ForeignKey\n",
    "from sqlalchemy.orm import declarative_base, relationship\n",
    "from sqlalchemy.orm import sessionmaker"
   ]
  },
  {
   "cell_type": "code",
   "execution_count": 23,
   "id": "b55813e4",
   "metadata": {},
   "outputs": [],
   "source": [
    "# Setup\n",
    "Base = declarative_base()\n",
    "engine = create_engine('sqlite:///../data/vaccination.db')  # Adjust path if needed"
   ]
  },
  {
   "cell_type": "code",
   "execution_count": 24,
   "id": "a11fe6f7",
   "metadata": {},
   "outputs": [],
   "source": [
    "# TABLE: countries\n",
    "class Country(Base):\n",
    "    __tablename__ = 'countries'\n",
    "    ISO_3_CODE = Column(String(3), primary_key=True)\n",
    "    COUNTRY_NAME = Column(String(100))\n",
    "    WHO_REGION = Column(String(10))"
   ]
  },
  {
   "cell_type": "code",
   "execution_count": 25,
   "id": "7661669c",
   "metadata": {},
   "outputs": [],
   "source": [
    "# TABLE: coverage_data\n",
    "class CoverageData(Base):\n",
    "    __tablename__ = 'coverage_data'\n",
    "    CODE = Column(String(3), primary_key=True)\n",
    "    YEAR = Column(Integer, primary_key=True)\n",
    "    ANTIGEN = Column(String(50), primary_key=True)\n",
    "    NAME = Column(String(100))\n",
    "    ANTIGEN_DESCRIPTION = Column(String(255))\n",
    "    COVERAGE_CATEGORY = Column(String(50))\n",
    "    COVERAGE_CATEGORY_DESCRIPTION = Column(String(255))\n",
    "    TARGET_NUMBER = Column(Integer)\n",
    "    DOSES = Column(Integer)\n",
    "    COVERAGE = Column(Float)"
   ]
  },
  {
   "cell_type": "code",
   "execution_count": 26,
   "id": "ee63b532",
   "metadata": {},
   "outputs": [],
   "source": [
    "# TABLE: incidence_rate_data\n",
    "class IncidenceRateData(Base):\n",
    "    __tablename__ = 'incidence_rate_data'\n",
    "    CODE = Column(String(3), primary_key=True)\n",
    "    YEAR = Column(Integer, primary_key=True)\n",
    "    DISEASE = Column(String(50), primary_key=True)\n",
    "    NAME = Column(String(100))\n",
    "    DISEASE_DESCRIPTION = Column(String(255))\n",
    "    DENOMINATOR = Column(String(100))\n",
    "    INCIDENCE_RATE = Column(Float)"
   ]
  },
  {
   "cell_type": "code",
   "execution_count": 27,
   "id": "d3fb0ada",
   "metadata": {},
   "outputs": [],
   "source": [
    "# TABLE: reported_cases_data\n",
    "class ReportedCasesData(Base):\n",
    "    __tablename__ = 'reported_cases_data'\n",
    "    CODE = Column(String(3), primary_key=True)\n",
    "    YEAR = Column(Integer, primary_key=True)\n",
    "    DISEASE = Column(String(50), primary_key=True)\n",
    "    NAME = Column(String(100))\n",
    "    DISEASE_DESCRIPTION = Column(String(255))\n",
    "    CASES = Column(Integer)"
   ]
  },
  {
   "cell_type": "code",
   "execution_count": 28,
   "id": "d0232624",
   "metadata": {},
   "outputs": [],
   "source": [
    "# TABLE: vaccine_introduction_data\n",
    "class VaccineIntroductionData(Base):\n",
    "    __tablename__ = 'vaccine_introduction_data'\n",
    "    ISO_3_CODE = Column(String(3), ForeignKey('countries.ISO_3_CODE'), primary_key=True)\n",
    "    DESCRIPTION = Column(String(100), primary_key=True)\n",
    "    COUNTRY_NAME = Column(String(100))\n",
    "    WHO_REGION = Column(String(10))\n",
    "    YEAR = Column(Integer)\n",
    "    INTRO = Column(Integer)"
   ]
  },
  {
   "cell_type": "code",
   "execution_count": 29,
   "id": "2f219a9f",
   "metadata": {},
   "outputs": [],
   "source": [
    "# TABLE: vaccine_schedule_data\n",
    "class VaccineScheduleData(Base):\n",
    "    __tablename__ = 'vaccine_schedule_data'\n",
    "    ISO_3_CODE = Column(String(3), ForeignKey('countries.ISO_3_CODE'), primary_key=True)\n",
    "    YEAR = Column(Integer, primary_key=True)\n",
    "    VACCINECODE = Column(String(50), primary_key=True)\n",
    "    SCHEDULEROUNDS = Column(Integer, primary_key=True)\n",
    "    COUNTRY_NAME = Column(String(100))\n",
    "    WHO_REGION = Column(String(10))\n",
    "    VACCINE_DESCRIPTION = Column(String(255))\n",
    "    TARGETPOP = Column(String(50))\n",
    "    TARGETPOP_DESCRIPTION = Column(String(255))\n",
    "    GEOAREA = Column(String(50))\n",
    "    AGEADMINISTERED = Column(String(50))\n",
    "    SOURCECOMMENT = Column(String)"
   ]
  },
  {
   "cell_type": "code",
   "execution_count": 30,
   "id": "89e4e9ec",
   "metadata": {},
   "outputs": [
    {
     "name": "stdout",
     "output_type": "stream",
     "text": [
      "✅ SQLite tables with PKs and FKs created successfully.\n"
     ]
    }
   ],
   "source": [
    "# Create all tables\n",
    "Base.metadata.create_all(engine)\n",
    "\n",
    "print(\"✅ SQLite tables with PKs and FKs created successfully.\")"
   ]
  },
  {
   "cell_type": "code",
   "execution_count": 31,
   "id": "c61abb6a",
   "metadata": {},
   "outputs": [
    {
     "name": "stdout",
     "output_type": "stream",
     "text": [
      "✅ Inserted 213 countries into 'countries' table.\n"
     ]
    }
   ],
   "source": [
    "\n",
    "# ✅ Create 'countries' table with ISO_3_CODE, COUNTRY_NAME, ISO_2_CODE, WHO_REGION\n",
    "import pandas as pd\n",
    "import sqlite3\n",
    "import pycountry\n",
    "\n",
    "# Load coverage data\n",
    "coverage_df = pd.read_csv(\"../data/cleaned_coverage_data.csv\")  # Ensure this file is in the same directory\n",
    "\n",
    "# Extract and rename\n",
    "country_df = coverage_df[['CODE', 'NAME', 'GROUP_NAME']].drop_duplicates()\n",
    "country_df.columns = ['ISO_3_CODE', 'COUNTRY_NAME', 'WHO_REGION']\n",
    "\n",
    "# Map ISO_3_CODE to ISO_2_CODE\n",
    "def get_iso2_from_iso3(iso3):\n",
    "    try:\n",
    "        return pycountry.countries.get(alpha_3=iso3).alpha_2\n",
    "    except:\n",
    "        return None\n",
    "\n",
    "country_df['ISO_2_CODE'] = country_df['ISO_3_CODE'].apply(get_iso2_from_iso3)\n",
    "\n",
    "# Drop rows with missing ISO_2_CODE\n",
    "country_df = country_df.dropna(subset=['ISO_2_CODE'])\n",
    "\n",
    "# Reorder columns\n",
    "country_df = country_df[['ISO_3_CODE', 'COUNTRY_NAME', 'ISO_2_CODE', 'WHO_REGION']]\n",
    "\n",
    "# Save to SQLite\n",
    "conn = sqlite3.connect(\"vaccination.db\")  # Adjust path if needed\n",
    "country_df.to_sql(\"countries\", conn, if_exists=\"replace\", index=False)\n",
    "\n",
    "# Confirm\n",
    "cursor = conn.cursor()\n",
    "cursor.execute(\"SELECT COUNT(*) FROM countries\")\n",
    "print(f\"✅ Inserted {cursor.fetchone()[0]} countries into 'countries' table.\")\n",
    "conn.close()\n"
   ]
  }
 ],
 "metadata": {
  "kernelspec": {
   "display_name": "foodwaste",
   "language": "python",
   "name": "python3"
  },
  "language_info": {
   "codemirror_mode": {
    "name": "ipython",
    "version": 3
   },
   "file_extension": ".py",
   "mimetype": "text/x-python",
   "name": "python",
   "nbconvert_exporter": "python",
   "pygments_lexer": "ipython3",
   "version": "3.12.9"
  }
 },
 "nbformat": 4,
 "nbformat_minor": 5
}
